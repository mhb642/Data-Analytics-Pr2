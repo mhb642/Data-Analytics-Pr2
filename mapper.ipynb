{
 "metadata": {
  "name": "mapper"
 },
 "nbformat": 3,
 "nbformat_minor": 0,
 "worksheets": [
  {
   "cells": [
    {
     "cell_type": "heading",
     "level": 1,
     "metadata": {},
     "source": [
      "Running A Hadoop MapReduce Program in Python (Replication of Michael G. Noll's Post)"
     ]
    },
    {
     "cell_type": "heading",
     "level": 2,
     "metadata": {},
     "source": [
      "Mapper:"
     ]
    },
    {
     "cell_type": "code",
     "collapsed": false,
     "input": [
      "#!/usr/bin/env python\n",
      "\n",
      "import sys\n",
      "\n",
      "# input comes from STDIN (standard input)\n",
      "for line in sys.stdin:\n",
      "    # remove leading and trailing whitespace\n",
      "    line = line.strip()\n",
      "    # split the line into words\n",
      "    words = line.split()\n",
      "    # increase counters\n",
      "    for word in words:\n",
      "        # write the results to STDOUT (standard output);\n",
      "        # what we output here will be the input for the\n",
      "        # Reduce step, i.e. the input for reducer.py\n",
      "        #\n",
      "        # tab-delimited; the trivial word count is 1\n",
      "        print '%s\\t%s' % (word, 1)"
     ],
     "language": "python",
     "metadata": {},
     "outputs": [],
     "prompt_number": 1
    }
   ],
   "metadata": {}
  }
 ]
}